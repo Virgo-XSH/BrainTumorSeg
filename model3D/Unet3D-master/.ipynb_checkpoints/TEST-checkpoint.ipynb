{
 "cells": [
  {
   "cell_type": "code",
   "execution_count": 1,
   "metadata": {},
   "outputs": [],
   "source": [
    "import time\n",
    "import os\n",
    "import math\n",
    "import argparse\n",
    "from glob import glob\n",
    "from collections import OrderedDict\n",
    "import random\n",
    "import warnings\n",
    "from datetime import datetime\n",
    "\n",
    "import numpy as np\n",
    "from tqdm import tqdm\n",
    "\n",
    "from sklearn.model_selection import train_test_split\n",
    "from skimage.io import imread, imsave\n",
    "\n",
    "import torch\n",
    "import torch.nn as nn\n",
    "import torch.nn.functional as F\n",
    "from torch.autograd import Variable\n",
    "import torch.optim as optim\n",
    "from torch.optim import lr_scheduler\n",
    "from torch.utils.data import DataLoader\n",
    "import torch.backends.cudnn as cudnn\n",
    "import torchvision\n",
    "from torchvision import datasets, models, transforms\n",
    "\n",
    "from dataset import Dataset\n",
    "\n",
    "import unet3d\n",
    "from metrics import dice_coef, batch_iou, mean_iou, iou_score ,ppv,sensitivity\n",
    "import losses\n",
    "from utils import str2bool, count_params\n",
    "from sklearn.externals import joblib\n",
    "import SimpleITK as sitk\n",
    "import imageio"
   ]
  },
  {
   "cell_type": "code",
   "execution_count": 2,
   "metadata": {},
   "outputs": [
    {
     "name": "stdout",
     "output_type": "stream",
     "text": [
      "Config -----\n",
      "name: jiu0Monkey_unet3d_woDS\n",
      "arch: unet3d\n",
      "deepsupervision: False\n",
      "dataset: jiu0Monkey\n",
      "input_channels: 4\n",
      "image_ext: png\n",
      "mask_ext: png\n",
      "aug: False\n",
      "loss: BCEDiceLoss\n",
      "epochs: 10000\n",
      "early_stop: 20\n",
      "batch_size: 2\n",
      "optimizer: Adam\n",
      "lr: 0.001\n",
      "momentum: 0.9\n",
      "weight_decay: 0.0001\n",
      "nesterov: False\n",
      "------------\n",
      "=> creating model unet3d\n"
     ]
    }
   ],
   "source": [
    "args = joblib.load('models/jiu0Monkey_unet3d_woDS/args.pkl')\n",
    "if not os.path.exists('output/%s' %args.name):\n",
    "    os.makedirs('output/%s' %args.name)\n",
    "print('Config -----')\n",
    "for arg in vars(args):\n",
    "    print('%s: %s' %(arg, getattr(args, arg)))\n",
    "print('------------')\n",
    "\n",
    "joblib.dump(args, 'models/%s/args.pkl' %args.name)\n",
    "\n",
    "# create model\n",
    "print(\"=> creating model %s\" %args.arch)\n",
    "model = unet3d.__dict__[args.arch](args)\n",
    "\n",
    "model = model.cuda()\n",
    "\n",
    "# Data loading code\n",
    "img_paths = glob(r'D:\\Project\\CollegeDesign\\dataset\\BraTs3D\\testImage\\*')\n",
    "mask_paths = glob(r'D:\\Project\\CollegeDesign\\dataset\\BraTs3D\\testMask\\*')\n",
    "\n",
    "val_img_paths = img_paths\n",
    "val_mask_paths = mask_paths\n",
    "\n",
    "#train_img_paths, val_img_paths, train_mask_paths, val_mask_paths = \\\n",
    "#   train_test_split(img_paths, mask_paths, test_size=0.2, random_state=41)\n",
    "\n",
    "model.load_state_dict(torch.load('models/%s/model.pth' %args.name))\n",
    "model.eval()\n",
    "\n",
    "val_dataset = Dataset(args, val_img_paths, val_mask_paths)\n",
    "val_loader = torch.utils.data.DataLoader(\n",
    "    val_dataset,\n",
    "    batch_size=args.batch_size,\n",
    "    shuffle=False,\n",
    "    pin_memory=True,\n",
    "    drop_last=False)"
   ]
  },
  {
   "cell_type": "code",
   "execution_count": 3,
   "metadata": {},
   "outputs": [
    {
     "data": {
      "text/plain": [
       "154"
      ]
     },
     "execution_count": 3,
     "metadata": {},
     "output_type": "execute_result"
    }
   ],
   "source": [
    "len(val_mask_paths)"
   ]
  },
  {
   "cell_type": "code",
   "execution_count": 4,
   "metadata": {},
   "outputs": [
    {
     "data": {
      "text/plain": [
       "77"
      ]
     },
     "execution_count": 4,
     "metadata": {},
     "output_type": "execute_result"
    }
   ],
   "source": [
    "len(val_loader)"
   ]
  },
  {
   "cell_type": "code",
   "execution_count": 5,
   "metadata": {},
   "outputs": [],
   "source": [
    "#获取某个分块的位置信息（0 32 64 96 128）以及 该块属于哪个病例\n",
    "def GetPatchPosition(PatchPath):\n",
    "    npName = os.path.basename(PatchPath)\n",
    "    overNum = npName.find(\".npy\")\n",
    "    npName = npName[0:overNum]\n",
    "    PeopleName = npName\n",
    "    overNum = npName.find(\"_\")\n",
    "    while(overNum != -1):\n",
    "        npName = npName[overNum+1:len(npName)]\n",
    "        overNum = npName.find(\"_\")\n",
    "    overNum = PeopleName.find(\"_\"+npName)\n",
    "    PeopleName = PeopleName[0:overNum]\n",
    "    return int(npName),PeopleName"
   ]
  },
  {
   "cell_type": "code",
   "execution_count": 6,
   "metadata": {},
   "outputs": [],
   "source": [
    "wt_dices = []\n",
    "tc_dices = []\n",
    "et_dices = []\n",
    "wt_sensitivities = []\n",
    "tc_sensitivities = []\n",
    "et_sensitivities = []\n",
    "wt_ppvs = []\n",
    "tc_ppvs = []\n",
    "et_ppvs = []\n",
    "wt_Hausdorf = []\n",
    "tc_Hausdorf = []\n",
    "et_Hausdorf = []"
   ]
  },
  {
   "cell_type": "code",
   "execution_count": 7,
   "metadata": {},
   "outputs": [],
   "source": [
    "def hausdorff_distance(lT,lP):\n",
    "    labelPred=sitk.GetImageFromArray(lP, isVector=False)\n",
    "    labelTrue=sitk.GetImageFromArray(lT, isVector=False)\n",
    "    hausdorffcomputer=sitk.HausdorffDistanceImageFilter()\n",
    "    hausdorffcomputer.Execute(labelTrue>0.5,labelPred>0.5)\n",
    "    #quality[\"avgHausdorff\"]=hausdorffcomputer.GetAverageHausdorffDistance()\n",
    "    return hausdorffcomputer.GetHausdorffDistance()"
   ]
  },
  {
   "cell_type": "code",
   "execution_count": 8,
   "metadata": {},
   "outputs": [],
   "source": [
    "def CalculateWTTCET(wtpbregion,wtmaskregion,tcpbregion,tcmaskregion,etpbregion,etmaskregion):  \n",
    "    #开始计算WT\n",
    "    dice = dice_coef(wtpbregion,wtmaskregion)\n",
    "    wt_dices.append(dice)\n",
    "    ppv_n = ppv(wtpbregion, wtmaskregion)\n",
    "    wt_ppvs.append(ppv_n)\n",
    "    Hausdorff = hausdorff_distance(wtmaskregion, wtpbregion)\n",
    "    wt_Hausdorf.append(Hausdorff)\n",
    "    sensitivity_n = sensitivity(wtpbregion, wtmaskregion)\n",
    "    wt_sensitivities.append(sensitivity_n)\n",
    "    # 开始计算TC\n",
    "    dice = dice_coef(tcpbregion, tcmaskregion)\n",
    "    tc_dices.append(dice)\n",
    "    ppv_n = ppv(tcpbregion, tcmaskregion)\n",
    "    tc_ppvs.append(ppv_n)\n",
    "    Hausdorff = hausdorff_distance(tcmaskregion, tcpbregion)\n",
    "    tc_Hausdorf.append(Hausdorff)\n",
    "    sensitivity_n = sensitivity(tcpbregion, tcmaskregion)\n",
    "    tc_sensitivities.append(sensitivity_n)\n",
    "    # 开始计算ET\n",
    "    dice = dice_coef(etpbregion, etmaskregion)\n",
    "    et_dices.append(dice)\n",
    "    ppv_n = ppv(etpbregion, etmaskregion)\n",
    "    et_ppvs.append(ppv_n)\n",
    "    Hausdorff = hausdorff_distance(etmaskregion, etpbregion)\n",
    "    et_Hausdorf.append(Hausdorff)\n",
    "    sensitivity_n = sensitivity(etpbregion, etmaskregion)\n",
    "    et_sensitivities.append(sensitivity_n)"
   ]
  },
  {
   "cell_type": "code",
   "execution_count": 9,
   "metadata": {},
   "outputs": [],
   "source": [
    "savedir = 'output/%s/'%args.name\n",
    "if not os.path.exists(savedir):\n",
    "    os.mkdir(savedir)"
   ]
  },
  {
   "cell_type": "code",
   "execution_count": 10,
   "metadata": {
    "scrolled": false
   },
   "outputs": [
    {
     "name": "stderr",
     "output_type": "stream",
     "text": [
      "100%|██████████████████████████████████████████████████████████████████████████████████| 77/77 [26:26<00:00, 20.60s/it]\n"
     ]
    }
   ],
   "source": [
    "with warnings.catch_warnings():\n",
    "    warnings.simplefilter('ignore')\n",
    "\n",
    "    with torch.no_grad():\n",
    "        startFlag = 1\n",
    "        for mynum, (input, target) in tqdm(enumerate(val_loader), total=len(val_loader)):\n",
    "            input = input.cuda()\n",
    "            output = model(input)\n",
    "            output = torch.sigmoid(output).data.cpu().numpy()\n",
    "            target = target.data.cpu().numpy()\n",
    "            img_paths = val_img_paths[args.batch_size*mynum:args.batch_size*(mynum+1)]\n",
    "            \n",
    "            for i in range(output.shape[0]):\n",
    "                \n",
    "                if(startFlag == 1):\n",
    "                    startFlag = 0\n",
    "                    #提取当前块的位置、名字\n",
    "                    PatchPosition,NameNow = GetPatchPosition(img_paths[i])\n",
    "                    LastName = NameNow\n",
    "                    #创建两个全黑的三维矩阵，分别分别拼接后的预测、拼接后的Mask\n",
    "                    OnePeople = np.zeros([160,160,160],dtype=np.uint8)\n",
    "                    OneMask = np.zeros([160,160,160],dtype=np.uint8)\n",
    "                    #创建三个全黑的三维矩阵，分别用于预测出来的WT、TC、ET分块的拼接\n",
    "                    OneWT = np.zeros([160,160,160],dtype=np.uint8)\n",
    "                    OneTC = np.zeros([160,160,160],dtype=np.uint8)\n",
    "                    OneET = np.zeros([160,160,160],dtype=np.uint8)\n",
    "                    #创建三个全黑的三维矩阵，分别用于真实的WT、TC、ET分块的拼接\n",
    "                    OneWTMask = np.zeros([160,160,160],dtype=np.uint8)\n",
    "                    OneTCMask = np.zeros([160,160,160],dtype=np.uint8)\n",
    "                    OneETMask = np.zeros([160,160,160],dtype=np.uint8)\n",
    "                    #处理预测后的分块\n",
    "                    #(2, 3, 32, 160, 160) output\n",
    "                    #预测分块的拼接\n",
    "                    for idz in range(output.shape[2]):\n",
    "                        for idx in range(output.shape[3]):\n",
    "                            for idy in range(output.shape[4]):\n",
    "                                if output[i,0,idz,idx,idy] > 0.5:#WT拼接\n",
    "                                    OneWT[PatchPosition+idz,idx, idy] = 1\n",
    "                                if output[i,1,idz,idx,idy] > 0.5:#TC拼接\n",
    "                                    OneTC[PatchPosition+idz,idx, idy] = 1\n",
    "                                if output[i,2,idz,idx,idy] > 0.5:#ET拼接\n",
    "                                    OneET[PatchPosition+idz,idx, idy] = 1\n",
    "                    #Mask分块的拼接\n",
    "                    OneWTMask[PatchPosition:(PatchPosition+output.shape[2]),:,:] = target[i,0,:,:,:]\n",
    "                    OneTCMask[PatchPosition:(PatchPosition+output.shape[2]),:,:] = target[i,1,:,:,:]\n",
    "                    OneETMask[PatchPosition:(PatchPosition+output.shape[2]),:,:] = target[i,2,:,:,:]\n",
    "                #提取当前块的位置、名字\n",
    "                PatchPosition,NameNow = GetPatchPosition(img_paths[i])\n",
    "                if(NameNow != LastName):\n",
    "                    #计算指标\n",
    "                    CalculateWTTCET(OneWT,OneWTMask,OneTC,OneTCMask,OneET,OneETMask)\n",
    "                    #OnePeople 0 1 2 4 => 增加或减少切片使得尺寸回到（155，240，240） => NII\n",
    "                    for idz in range(OneWT.shape[0]):\n",
    "                        for idx in range(OneWT.shape[1]):\n",
    "                            for idy in range(OneWT.shape[2]):\n",
    "                                if(OneWT[idz,idx,idy] == 1):\n",
    "                                    OnePeople[idz,idx,idy] = 2 \n",
    "                                if(OneTC[idz,idx,idy] == 1):\n",
    "                                    OnePeople[idz,idx,idy] = 1 \n",
    "                                if(OneET[idz,idx,idy] == 1):\n",
    "                                    OnePeople[idz,idx,idy] = 4 \n",
    "                    SavePeoPle = np.zeros([155, 240, 240], dtype=np.uint8)\n",
    "                    SavePeoPle[:,40:200,40:200] = OnePeople[3:158,:,:]\n",
    "                    saveout = sitk.GetImageFromArray(SavePeoPle)\n",
    "                    sitk.WriteImage(saveout,savedir + LastName + \".nii.gz\")\n",
    "                    \n",
    "                    \n",
    "                    LastName = NameNow\n",
    "                    #创建两个全黑的三维矩阵，分别分别拼接后的预测、拼接后的Mask\n",
    "                    OnePeople = np.zeros([160,160,160],dtype=np.uint8)\n",
    "                    OneMask = np.zeros([160,160,160],dtype=np.uint8)\n",
    "                    #创建三个全黑的三维矩阵，分别用于预测出来的WT、TC、ET分块的拼接\n",
    "                    OneWT = np.zeros([160,160,160],dtype=np.uint8)\n",
    "                    OneTC = np.zeros([160,160,160],dtype=np.uint8)\n",
    "                    OneET = np.zeros([160,160,160],dtype=np.uint8)\n",
    "                    #创建三个全黑的三维矩阵，分别用于真实的WT、TC、ET分块的拼接\n",
    "                    OneWTMask = np.zeros([160,160,160],dtype=np.uint8)\n",
    "                    OneTCMask = np.zeros([160,160,160],dtype=np.uint8)\n",
    "                    OneETMask = np.zeros([160,160,160],dtype=np.uint8)\n",
    "                    #处理预测后的分块\n",
    "                    #(2, 3, 32, 160, 160) output\n",
    "                    #预测分块的拼接\n",
    "                    for idz in range(output.shape[2]):\n",
    "                        for idx in range(output.shape[3]):\n",
    "                            for idy in range(output.shape[4]):\n",
    "                                if output[i,0,idz,idx,idy] > 0.5:#WT拼接\n",
    "                                    OneWT[PatchPosition+idz,idx, idy] = 1\n",
    "                                if output[i,1,idz,idx,idy] > 0.5:#TC拼接\n",
    "                                    OneTC[PatchPosition+idz,idx, idy] = 1\n",
    "                                if output[i,2,idz,idx,idy] > 0.5:#ET拼接\n",
    "                                    OneET[PatchPosition+idz,idx, idy] = 1\n",
    "                    #Mask分块的拼接\n",
    "                    OneWTMask[PatchPosition:(PatchPosition+output.shape[2]),:,:] = target[i,0,:,:,:]\n",
    "                    OneTCMask[PatchPosition:(PatchPosition+output.shape[2]),:,:] = target[i,1,:,:,:]\n",
    "                    OneETMask[PatchPosition:(PatchPosition+output.shape[2]),:,:] = target[i,2,:,:,:] \n",
    "                if(NameNow == LastName):\n",
    "                    #预测分块的拼接\n",
    "                    for idz in range(output.shape[2]):\n",
    "                        for idx in range(output.shape[3]):\n",
    "                            for idy in range(output.shape[4]):\n",
    "                                if output[i,0,idz,idx,idy] > 0.5:#WT拼接\n",
    "                                    OneWT[PatchPosition+idz,idx, idy] = 1\n",
    "                                if output[i,1,idz,idx,idy] > 0.5:#TC拼接\n",
    "                                    OneTC[PatchPosition+idz,idx, idy] = 1\n",
    "                                if output[i,2,idz,idx,idy] > 0.5:#ET拼接\n",
    "                                    OneET[PatchPosition+idz,idx, idy] = 1\n",
    "                    #Mask分块的拼接\n",
    "                    OneWTMask[PatchPosition:(PatchPosition+output.shape[2]),:,:] = target[i,0,:,:,:]\n",
    "                    OneTCMask[PatchPosition:(PatchPosition+output.shape[2]),:,:] = target[i,1,:,:,:]\n",
    "                    OneETMask[PatchPosition:(PatchPosition+output.shape[2]),:,:] = target[i,2,:,:,:] \n",
    "                    \n",
    "                    #如果剩下奇数个需要从这里结束\n",
    "                    if output.shape[0]==1:\n",
    "                        #计算指标\n",
    "                        CalculateWTTCET(OneWT,OneWTMask,OneTC,OneTCMask,OneET,OneETMask)\n",
    "                        #OnePeople 0 1 2 4 => 增加或减少切片使得尺寸回到（155，240，240） => NII\n",
    "                        for idz in range(OneWT.shape[0]):\n",
    "                            for idx in range(OneWT.shape[1]):\n",
    "                                for idy in range(OneWT.shape[2]):\n",
    "                                    if(OneWT[idz,idx,idy] == 1):\n",
    "                                        OnePeople[idz,idx,idy] = 2 \n",
    "                                    if(OneTC[idz,idx,idy] == 1):\n",
    "                                        OnePeople[idz,idx,idy] = 1 \n",
    "                                    if(OneET[idz,idx,idy] == 1):\n",
    "                                        OnePeople[idz,idx,idy] = 4 \n",
    "                        SavePeoPle = np.zeros([155, 240, 240], dtype=np.uint8)\n",
    "                        SavePeoPle[:,40:200,40:200] = OnePeople[3:158,:,:]\n",
    "                        saveout = sitk.GetImageFromArray(SavePeoPle)\n",
    "                        sitk.WriteImage(saveout,savedir + LastName + \".nii.gz\")\n",
    "                        \n",
    "\n",
    "        torch.cuda.empty_cache()\n"
   ]
  },
  {
   "cell_type": "code",
   "execution_count": 11,
   "metadata": {},
   "outputs": [
    {
     "name": "stdout",
     "output_type": "stream",
     "text": [
      "WT Dice: 0.8873\n",
      "TC Dice: 0.8264\n",
      "ET Dice: 0.8370\n",
      "=============\n",
      "WT PPV: 0.8573\n",
      "TC PPV: 0.8237\n",
      "ET PPV: 0.8611\n",
      "=============\n",
      "WT sensitivity: 0.9388\n",
      "TC sensitivity: 0.8819\n",
      "ET sensitivity: 0.8445\n",
      "=============\n",
      "WT Hausdorff: 50.1269\n",
      "TC Hausdorff: 18.9989\n",
      "ET Hausdorff: 17.0351\n",
      "=============\n"
     ]
    }
   ],
   "source": [
    "print('WT Dice: %.4f' % np.mean(wt_dices))\n",
    "print('TC Dice: %.4f' % np.mean(tc_dices))\n",
    "print('ET Dice: %.4f' % np.mean(et_dices))\n",
    "print(\"=============\")\n",
    "print('WT PPV: %.4f' % np.mean(wt_ppvs))\n",
    "print('TC PPV: %.4f' % np.mean(tc_ppvs))\n",
    "print('ET PPV: %.4f' % np.mean(et_ppvs))\n",
    "print(\"=============\")\n",
    "print('WT sensitivity: %.4f' % np.mean(wt_sensitivities))\n",
    "print('TC sensitivity: %.4f' % np.mean(tc_sensitivities))\n",
    "print('ET sensitivity: %.4f' % np.mean(et_sensitivities))\n",
    "print(\"=============\")\n",
    "print('WT Hausdorff: %.4f' % np.mean(wt_Hausdorf))\n",
    "print('TC Hausdorff: %.4f' % np.mean(tc_Hausdorf))\n",
    "print('ET Hausdorff: %.4f' % np.mean(et_Hausdorf))\n",
    "print(\"=============\")"
   ]
  },
  {
   "cell_type": "code",
   "execution_count": 13,
   "metadata": {},
   "outputs": [
    {
     "data": {
      "text/plain": [
       "49"
      ]
     },
     "execution_count": 13,
     "metadata": {},
     "output_type": "execute_result"
    }
   ],
   "source": [
    "len(wt_dices)"
   ]
  },
  {
   "cell_type": "code",
   "execution_count": 14,
   "metadata": {},
   "outputs": [
    {
     "data": {
      "text/plain": [
       "49"
      ]
     },
     "execution_count": 14,
     "metadata": {},
     "output_type": "execute_result"
    }
   ],
   "source": [
    "len(tc_dices)"
   ]
  },
  {
   "cell_type": "code",
   "execution_count": 12,
   "metadata": {},
   "outputs": [
    {
     "name": "stdout",
     "output_type": "stream",
     "text": [
      "42.40283009422838\n",
      "56.60388679233962\n",
      "52.55473337388365\n",
      "52.744667976962376\n",
      "40.099875311526844\n",
      "34.07345007480164\n",
      "52.08646657242167\n",
      "57.253820833198546\n",
      "48.425200051213004\n",
      "18.547236990991408\n",
      "70.34912934784623\n",
      "27.09243436828813\n",
      "46.238512086787566\n",
      "39.30648801406709\n",
      "90.96153033013462\n",
      "54.2125446737192\n",
      "37.8021163428716\n",
      "61.29437168288782\n",
      "51.59457335805772\n",
      "53.38539126015655\n",
      "39.93745109543172\n",
      "47.10626285325551\n",
      "59.531504264548865\n",
      "42.30839160261236\n",
      "43.9089968002003\n",
      "51.93264869039514\n",
      "37.77565353504821\n",
      "73.70888684548153\n",
      "14.866068747318506\n",
      "68.60757975617562\n",
      "73.85120175054702\n",
      "59.08468498688979\n",
      "66.25707509390978\n",
      "49.01020301937138\n",
      "11.445523142259598\n",
      "41.72529209005013\n",
      "40.23679907746142\n",
      "72.27724399837061\n",
      "72.78049189171504\n",
      "76.01973427998811\n",
      "77.90378681424929\n",
      "39.824615503479755\n",
      "60.88513775955508\n",
      "38.17066936798463\n",
      "21.0\n",
      "48.579831205964474\n",
      "47.275786614291256\n",
      "61.5223536610881\n",
      "31.654383582688826\n"
     ]
    }
   ],
   "source": [
    "for i in range(len(wt_Hausdorf)):\n",
    "    print(wt_Hausdorf[i])"
   ]
  }
 ],
 "metadata": {
  "kernelspec": {
   "display_name": "Python 3",
   "language": "python",
   "name": "python3"
  },
  "language_info": {
   "codemirror_mode": {
    "name": "ipython",
    "version": 3
   },
   "file_extension": ".py",
   "mimetype": "text/x-python",
   "name": "python",
   "nbconvert_exporter": "python",
   "pygments_lexer": "ipython3",
   "version": "3.6.10"
  }
 },
 "nbformat": 4,
 "nbformat_minor": 4
}
